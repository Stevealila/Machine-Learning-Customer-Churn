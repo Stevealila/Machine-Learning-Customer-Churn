{
 "cells": [
  {
   "cell_type": "code",
   "execution_count": 1,
   "id": "ff2df3cf-cc28-4b2c-b2c2-9a0e25bc6be1",
   "metadata": {},
   "outputs": [],
   "source": [
    "import pandas as pd\n",
    "import numpy as np\n",
    "import matplotlib.pyplot as plt\n",
    "import tensorflow as tf\n",
    "from sklearn.preprocessing import MinMaxScaler\n",
    "from sklearn.model_selection import train_test_split"
   ]
  },
  {
   "cell_type": "code",
   "execution_count": 2,
   "id": "c2721915-a095-415f-8233-9701b4aacf48",
   "metadata": {},
   "outputs": [],
   "source": [
    "df = pd.read_csv(\"customer_churn.csv\")"
   ]
  },
  {
   "cell_type": "code",
   "execution_count": 3,
   "id": "b2cc4ae0-6132-4bc5-b6c2-a11cd1716e83",
   "metadata": {},
   "outputs": [
    {
     "name": "stdout",
     "output_type": "stream",
     "text": [
      "<class 'pandas.core.frame.DataFrame'>\n",
      "RangeIndex: 7043 entries, 0 to 7042\n",
      "Data columns (total 21 columns):\n",
      " #   Column            Non-Null Count  Dtype  \n",
      "---  ------            --------------  -----  \n",
      " 0   customerID        7043 non-null   object \n",
      " 1   gender            7043 non-null   object \n",
      " 2   SeniorCitizen     7043 non-null   int64  \n",
      " 3   Partner           7043 non-null   object \n",
      " 4   Dependents        7043 non-null   object \n",
      " 5   tenure            7043 non-null   int64  \n",
      " 6   PhoneService      7043 non-null   object \n",
      " 7   MultipleLines     7043 non-null   object \n",
      " 8   InternetService   7043 non-null   object \n",
      " 9   OnlineSecurity    7043 non-null   object \n",
      " 10  OnlineBackup      7043 non-null   object \n",
      " 11  DeviceProtection  7043 non-null   object \n",
      " 12  TechSupport       7043 non-null   object \n",
      " 13  StreamingTV       7043 non-null   object \n",
      " 14  StreamingMovies   7043 non-null   object \n",
      " 15  Contract          7043 non-null   object \n",
      " 16  PaperlessBilling  7043 non-null   object \n",
      " 17  PaymentMethod     7043 non-null   object \n",
      " 18  MonthlyCharges    7043 non-null   float64\n",
      " 19  TotalCharges      7043 non-null   object \n",
      " 20  Churn             7043 non-null   object \n",
      "dtypes: float64(1), int64(2), object(18)\n",
      "memory usage: 1.1+ MB\n"
     ]
    }
   ],
   "source": [
    "df.info()"
   ]
  },
  {
   "cell_type": "code",
   "execution_count": 4,
   "id": "6cf9bc0a-a70f-40bc-bec8-7d7b48d4587f",
   "metadata": {},
   "outputs": [],
   "source": [
    "df.drop(\"customerID\", inplace=True, axis=1)\n",
    "\n",
    "columns_to_encode = ['InternetService', 'Contract', 'PaymentMethod']\n",
    "df = pd.get_dummies(df, columns=columns_to_encode)\n",
    "\n",
    "pd.set_option('future.no_silent_downcasting', True)\n",
    "df.replace(\"No phone service\", \"No\", inplace=True)\n",
    "df.replace(\"No internet service\", \"No\", inplace=True)\n",
    "df.replace({\"No\": 0, \"Yes\": 1}, inplace=True)\n",
    "df.replace({\"Female\": 0, \"Male\": 1}, inplace=True)\n",
    "df.replace({False: 0, True: 1}, inplace=True)\n",
    "\n",
    "df['TotalCharges'] = df['TotalCharges'].replace(' ', np.nan)\n",
    "df['TotalCharges'] = df['TotalCharges'].astype(float)"
   ]
  },
  {
   "cell_type": "code",
   "execution_count": 5,
   "id": "269782aa-c753-47a5-b4ce-17734dbee1b1",
   "metadata": {},
   "outputs": [
    {
     "name": "stdout",
     "output_type": "stream",
     "text": [
      "gender\n",
      "1    3555\n",
      "0    3488\n",
      "Name: count, dtype: int64\n",
      "********************************\n",
      "SeniorCitizen\n",
      "0    5901\n",
      "1    1142\n",
      "Name: count, dtype: int64\n",
      "********************************\n",
      "Partner\n",
      "0    3641\n",
      "1    3402\n",
      "Name: count, dtype: int64\n",
      "********************************\n",
      "Dependents\n",
      "0    4933\n",
      "1    2110\n",
      "Name: count, dtype: int64\n",
      "********************************\n",
      "tenure\n",
      "1     613\n",
      "72    362\n",
      "2     238\n",
      "3     200\n",
      "4     176\n",
      "     ... \n",
      "28     57\n",
      "39     56\n",
      "44     51\n",
      "36     50\n",
      "0      11\n",
      "Name: count, Length: 73, dtype: int64\n",
      "********************************\n",
      "PhoneService\n",
      "1    6361\n",
      "0     682\n",
      "Name: count, dtype: int64\n",
      "********************************\n",
      "MultipleLines\n",
      "0    4072\n",
      "1    2971\n",
      "Name: count, dtype: int64\n",
      "********************************\n",
      "OnlineSecurity\n",
      "0    5024\n",
      "1    2019\n",
      "Name: count, dtype: int64\n",
      "********************************\n",
      "OnlineBackup\n",
      "0    4614\n",
      "1    2429\n",
      "Name: count, dtype: int64\n",
      "********************************\n",
      "DeviceProtection\n",
      "0    4621\n",
      "1    2422\n",
      "Name: count, dtype: int64\n",
      "********************************\n",
      "TechSupport\n",
      "0    4999\n",
      "1    2044\n",
      "Name: count, dtype: int64\n",
      "********************************\n",
      "StreamingTV\n",
      "0    4336\n",
      "1    2707\n",
      "Name: count, dtype: int64\n",
      "********************************\n",
      "StreamingMovies\n",
      "0    4311\n",
      "1    2732\n",
      "Name: count, dtype: int64\n",
      "********************************\n",
      "PaperlessBilling\n",
      "1    4171\n",
      "0    2872\n",
      "Name: count, dtype: int64\n",
      "********************************\n",
      "MonthlyCharges\n",
      "20.05     61\n",
      "19.85     45\n",
      "19.95     44\n",
      "19.90     44\n",
      "20.00     43\n",
      "          ..\n",
      "23.65      1\n",
      "114.70     1\n",
      "43.65      1\n",
      "87.80      1\n",
      "78.70      1\n",
      "Name: count, Length: 1585, dtype: int64\n",
      "********************************\n",
      "TotalCharges\n",
      "20.20      11\n",
      "19.75       9\n",
      "20.05       8\n",
      "19.90       8\n",
      "19.65       8\n",
      "           ..\n",
      "6849.40     1\n",
      "692.35      1\n",
      "130.15      1\n",
      "3211.90     1\n",
      "6844.50     1\n",
      "Name: count, Length: 6530, dtype: int64\n",
      "********************************\n",
      "Churn\n",
      "0    5174\n",
      "1    1869\n",
      "Name: count, dtype: int64\n",
      "********************************\n",
      "InternetService_DSL\n",
      "0    4622\n",
      "1    2421\n",
      "Name: count, dtype: int64\n",
      "********************************\n",
      "InternetService_Fiber optic\n",
      "0    3947\n",
      "1    3096\n",
      "Name: count, dtype: int64\n",
      "********************************\n",
      "InternetService_No\n",
      "0    5517\n",
      "1    1526\n",
      "Name: count, dtype: int64\n",
      "********************************\n",
      "Contract_Month-to-month\n",
      "1    3875\n",
      "0    3168\n",
      "Name: count, dtype: int64\n",
      "********************************\n",
      "Contract_One year\n",
      "0    5570\n",
      "1    1473\n",
      "Name: count, dtype: int64\n",
      "********************************\n",
      "Contract_Two year\n",
      "0    5348\n",
      "1    1695\n",
      "Name: count, dtype: int64\n",
      "********************************\n",
      "PaymentMethod_Bank transfer (automatic)\n",
      "0    5499\n",
      "1    1544\n",
      "Name: count, dtype: int64\n",
      "********************************\n",
      "PaymentMethod_Credit card (automatic)\n",
      "0    5521\n",
      "1    1522\n",
      "Name: count, dtype: int64\n",
      "********************************\n",
      "PaymentMethod_Electronic check\n",
      "0    4678\n",
      "1    2365\n",
      "Name: count, dtype: int64\n",
      "********************************\n",
      "PaymentMethod_Mailed check\n",
      "0    5431\n",
      "1    1612\n",
      "Name: count, dtype: int64\n",
      "********************************\n"
     ]
    }
   ],
   "source": [
    "for f in df:\n",
    "    print(df[f'{f}'].value_counts()) \n",
    "    print('********************************')"
   ]
  },
  {
   "cell_type": "code",
   "execution_count": 6,
   "id": "69f110af-2000-4985-ab89-e3c95d416283",
   "metadata": {},
   "outputs": [
    {
     "name": "stdout",
     "output_type": "stream",
     "text": [
      "<class 'pandas.core.frame.DataFrame'>\n",
      "RangeIndex: 7043 entries, 0 to 7042\n",
      "Data columns (total 27 columns):\n",
      " #   Column                                   Non-Null Count  Dtype  \n",
      "---  ------                                   --------------  -----  \n",
      " 0   gender                                   7043 non-null   object \n",
      " 1   SeniorCitizen                            7043 non-null   int64  \n",
      " 2   Partner                                  7043 non-null   object \n",
      " 3   Dependents                               7043 non-null   object \n",
      " 4   tenure                                   7043 non-null   int64  \n",
      " 5   PhoneService                             7043 non-null   object \n",
      " 6   MultipleLines                            7043 non-null   object \n",
      " 7   OnlineSecurity                           7043 non-null   object \n",
      " 8   OnlineBackup                             7043 non-null   object \n",
      " 9   DeviceProtection                         7043 non-null   object \n",
      " 10  TechSupport                              7043 non-null   object \n",
      " 11  StreamingTV                              7043 non-null   object \n",
      " 12  StreamingMovies                          7043 non-null   object \n",
      " 13  PaperlessBilling                         7043 non-null   object \n",
      " 14  MonthlyCharges                           7043 non-null   float64\n",
      " 15  TotalCharges                             7032 non-null   float64\n",
      " 16  Churn                                    7043 non-null   object \n",
      " 17  InternetService_DSL                      7043 non-null   object \n",
      " 18  InternetService_Fiber optic              7043 non-null   object \n",
      " 19  InternetService_No                       7043 non-null   object \n",
      " 20  Contract_Month-to-month                  7043 non-null   object \n",
      " 21  Contract_One year                        7043 non-null   object \n",
      " 22  Contract_Two year                        7043 non-null   object \n",
      " 23  PaymentMethod_Bank transfer (automatic)  7043 non-null   object \n",
      " 24  PaymentMethod_Credit card (automatic)    7043 non-null   object \n",
      " 25  PaymentMethod_Electronic check           7043 non-null   object \n",
      " 26  PaymentMethod_Mailed check               7043 non-null   object \n",
      "dtypes: float64(2), int64(2), object(23)\n",
      "memory usage: 1.5+ MB\n"
     ]
    }
   ],
   "source": [
    "df.info()"
   ]
  },
  {
   "cell_type": "code",
   "execution_count": 7,
   "id": "1f6e0e49-5083-49cd-bed1-e1531f26a406",
   "metadata": {},
   "outputs": [],
   "source": [
    "columns_to_convert = df.select_dtypes(exclude=['int64', 'float64']).columns\n",
    "\n",
    "# Convert object type columns to int type\n",
    "df[columns_to_convert] = df[columns_to_convert].astype(int)"
   ]
  },
  {
   "cell_type": "code",
   "execution_count": 8,
   "id": "534a9566-7181-4acd-a5c9-18d04a95d25f",
   "metadata": {},
   "outputs": [
    {
     "name": "stdout",
     "output_type": "stream",
     "text": [
      "<class 'pandas.core.frame.DataFrame'>\n",
      "RangeIndex: 7043 entries, 0 to 7042\n",
      "Data columns (total 27 columns):\n",
      " #   Column                                   Non-Null Count  Dtype  \n",
      "---  ------                                   --------------  -----  \n",
      " 0   gender                                   7043 non-null   int32  \n",
      " 1   SeniorCitizen                            7043 non-null   int64  \n",
      " 2   Partner                                  7043 non-null   int32  \n",
      " 3   Dependents                               7043 non-null   int32  \n",
      " 4   tenure                                   7043 non-null   int64  \n",
      " 5   PhoneService                             7043 non-null   int32  \n",
      " 6   MultipleLines                            7043 non-null   int32  \n",
      " 7   OnlineSecurity                           7043 non-null   int32  \n",
      " 8   OnlineBackup                             7043 non-null   int32  \n",
      " 9   DeviceProtection                         7043 non-null   int32  \n",
      " 10  TechSupport                              7043 non-null   int32  \n",
      " 11  StreamingTV                              7043 non-null   int32  \n",
      " 12  StreamingMovies                          7043 non-null   int32  \n",
      " 13  PaperlessBilling                         7043 non-null   int32  \n",
      " 14  MonthlyCharges                           7043 non-null   float64\n",
      " 15  TotalCharges                             7032 non-null   float64\n",
      " 16  Churn                                    7043 non-null   int32  \n",
      " 17  InternetService_DSL                      7043 non-null   int32  \n",
      " 18  InternetService_Fiber optic              7043 non-null   int32  \n",
      " 19  InternetService_No                       7043 non-null   int32  \n",
      " 20  Contract_Month-to-month                  7043 non-null   int32  \n",
      " 21  Contract_One year                        7043 non-null   int32  \n",
      " 22  Contract_Two year                        7043 non-null   int32  \n",
      " 23  PaymentMethod_Bank transfer (automatic)  7043 non-null   int32  \n",
      " 24  PaymentMethod_Credit card (automatic)    7043 non-null   int32  \n",
      " 25  PaymentMethod_Electronic check           7043 non-null   int32  \n",
      " 26  PaymentMethod_Mailed check               7043 non-null   int32  \n",
      "dtypes: float64(2), int32(23), int64(2)\n",
      "memory usage: 853.0 KB\n"
     ]
    }
   ],
   "source": [
    "df.info()"
   ]
  },
  {
   "cell_type": "code",
   "execution_count": 9,
   "id": "7ee08f1d-3f3b-44af-a6cb-024e24ab205f",
   "metadata": {},
   "outputs": [
    {
     "data": {
      "text/html": [
       "<div>\n",
       "<style scoped>\n",
       "    .dataframe tbody tr th:only-of-type {\n",
       "        vertical-align: middle;\n",
       "    }\n",
       "\n",
       "    .dataframe tbody tr th {\n",
       "        vertical-align: top;\n",
       "    }\n",
       "\n",
       "    .dataframe thead th {\n",
       "        text-align: right;\n",
       "    }\n",
       "</style>\n",
       "<table border=\"1\" class=\"dataframe\">\n",
       "  <thead>\n",
       "    <tr style=\"text-align: right;\">\n",
       "      <th></th>\n",
       "      <th>gender</th>\n",
       "      <th>SeniorCitizen</th>\n",
       "      <th>Partner</th>\n",
       "      <th>Dependents</th>\n",
       "      <th>tenure</th>\n",
       "      <th>PhoneService</th>\n",
       "      <th>MultipleLines</th>\n",
       "      <th>OnlineSecurity</th>\n",
       "      <th>OnlineBackup</th>\n",
       "      <th>DeviceProtection</th>\n",
       "      <th>TechSupport</th>\n",
       "      <th>StreamingTV</th>\n",
       "      <th>StreamingMovies</th>\n",
       "      <th>PaperlessBilling</th>\n",
       "      <th>MonthlyCharges</th>\n",
       "      <th>TotalCharges</th>\n",
       "      <th>Churn</th>\n",
       "      <th>InternetService_DSL</th>\n",
       "      <th>InternetService_Fiber optic</th>\n",
       "      <th>InternetService_No</th>\n",
       "      <th>Contract_Month-to-month</th>\n",
       "      <th>Contract_One year</th>\n",
       "      <th>Contract_Two year</th>\n",
       "      <th>PaymentMethod_Bank transfer (automatic)</th>\n",
       "      <th>PaymentMethod_Credit card (automatic)</th>\n",
       "      <th>PaymentMethod_Electronic check</th>\n",
       "      <th>PaymentMethod_Mailed check</th>\n",
       "    </tr>\n",
       "  </thead>\n",
       "  <tbody>\n",
       "    <tr>\n",
       "      <th>0</th>\n",
       "      <td>0</td>\n",
       "      <td>0</td>\n",
       "      <td>1</td>\n",
       "      <td>0</td>\n",
       "      <td>1</td>\n",
       "      <td>0</td>\n",
       "      <td>0</td>\n",
       "      <td>0</td>\n",
       "      <td>1</td>\n",
       "      <td>0</td>\n",
       "      <td>0</td>\n",
       "      <td>0</td>\n",
       "      <td>0</td>\n",
       "      <td>1</td>\n",
       "      <td>29.85</td>\n",
       "      <td>29.85</td>\n",
       "      <td>0</td>\n",
       "      <td>1</td>\n",
       "      <td>0</td>\n",
       "      <td>0</td>\n",
       "      <td>1</td>\n",
       "      <td>0</td>\n",
       "      <td>0</td>\n",
       "      <td>0</td>\n",
       "      <td>0</td>\n",
       "      <td>1</td>\n",
       "      <td>0</td>\n",
       "    </tr>\n",
       "    <tr>\n",
       "      <th>1</th>\n",
       "      <td>1</td>\n",
       "      <td>0</td>\n",
       "      <td>0</td>\n",
       "      <td>0</td>\n",
       "      <td>34</td>\n",
       "      <td>1</td>\n",
       "      <td>0</td>\n",
       "      <td>1</td>\n",
       "      <td>0</td>\n",
       "      <td>1</td>\n",
       "      <td>0</td>\n",
       "      <td>0</td>\n",
       "      <td>0</td>\n",
       "      <td>0</td>\n",
       "      <td>56.95</td>\n",
       "      <td>1889.50</td>\n",
       "      <td>0</td>\n",
       "      <td>1</td>\n",
       "      <td>0</td>\n",
       "      <td>0</td>\n",
       "      <td>0</td>\n",
       "      <td>1</td>\n",
       "      <td>0</td>\n",
       "      <td>0</td>\n",
       "      <td>0</td>\n",
       "      <td>0</td>\n",
       "      <td>1</td>\n",
       "    </tr>\n",
       "    <tr>\n",
       "      <th>2</th>\n",
       "      <td>1</td>\n",
       "      <td>0</td>\n",
       "      <td>0</td>\n",
       "      <td>0</td>\n",
       "      <td>2</td>\n",
       "      <td>1</td>\n",
       "      <td>0</td>\n",
       "      <td>1</td>\n",
       "      <td>1</td>\n",
       "      <td>0</td>\n",
       "      <td>0</td>\n",
       "      <td>0</td>\n",
       "      <td>0</td>\n",
       "      <td>1</td>\n",
       "      <td>53.85</td>\n",
       "      <td>108.15</td>\n",
       "      <td>1</td>\n",
       "      <td>1</td>\n",
       "      <td>0</td>\n",
       "      <td>0</td>\n",
       "      <td>1</td>\n",
       "      <td>0</td>\n",
       "      <td>0</td>\n",
       "      <td>0</td>\n",
       "      <td>0</td>\n",
       "      <td>0</td>\n",
       "      <td>1</td>\n",
       "    </tr>\n",
       "  </tbody>\n",
       "</table>\n",
       "</div>"
      ],
      "text/plain": [
       "   gender  SeniorCitizen  Partner  Dependents  tenure  PhoneService  \\\n",
       "0       0              0        1           0       1             0   \n",
       "1       1              0        0           0      34             1   \n",
       "2       1              0        0           0       2             1   \n",
       "\n",
       "   MultipleLines  OnlineSecurity  OnlineBackup  DeviceProtection  TechSupport  \\\n",
       "0              0               0             1                 0            0   \n",
       "1              0               1             0                 1            0   \n",
       "2              0               1             1                 0            0   \n",
       "\n",
       "   StreamingTV  StreamingMovies  PaperlessBilling  MonthlyCharges  \\\n",
       "0            0                0                 1           29.85   \n",
       "1            0                0                 0           56.95   \n",
       "2            0                0                 1           53.85   \n",
       "\n",
       "   TotalCharges  Churn  InternetService_DSL  InternetService_Fiber optic  \\\n",
       "0         29.85      0                    1                            0   \n",
       "1       1889.50      0                    1                            0   \n",
       "2        108.15      1                    1                            0   \n",
       "\n",
       "   InternetService_No  Contract_Month-to-month  Contract_One year  \\\n",
       "0                   0                        1                  0   \n",
       "1                   0                        0                  1   \n",
       "2                   0                        1                  0   \n",
       "\n",
       "   Contract_Two year  PaymentMethod_Bank transfer (automatic)  \\\n",
       "0                  0                                        0   \n",
       "1                  0                                        0   \n",
       "2                  0                                        0   \n",
       "\n",
       "   PaymentMethod_Credit card (automatic)  PaymentMethod_Electronic check  \\\n",
       "0                                      0                               1   \n",
       "1                                      0                               0   \n",
       "2                                      0                               0   \n",
       "\n",
       "   PaymentMethod_Mailed check  \n",
       "0                           0  \n",
       "1                           1  \n",
       "2                           1  "
      ]
     },
     "execution_count": 9,
     "metadata": {},
     "output_type": "execute_result"
    }
   ],
   "source": [
    "pd.set_option('display.max_columns', 28)\n",
    "df.head(3)"
   ]
  },
  {
   "cell_type": "code",
   "execution_count": 10,
   "id": "1ebceea0-914e-45be-9044-c80527e5f548",
   "metadata": {},
   "outputs": [],
   "source": [
    "scaler = MinMaxScaler()\n",
    "\n",
    "columns_to_scale = ['tenure', 'MonthlyCharges', 'TotalCharges']\n",
    "df[columns_to_scale] = scaler.fit_transform(df[columns_to_scale])"
   ]
  },
  {
   "cell_type": "code",
   "execution_count": 11,
   "id": "fcdf8331-31c3-4c02-b184-ece4e5e41b09",
   "metadata": {},
   "outputs": [
    {
     "data": {
      "text/plain": [
       "array([0.11542289, 0.38507463, 0.35422886, ..., 0.11293532, 0.55870647,\n",
       "       0.86965174])"
      ]
     },
     "execution_count": 11,
     "metadata": {},
     "output_type": "execute_result"
    }
   ],
   "source": [
    "df.MonthlyCharges.values"
   ]
  },
  {
   "cell_type": "code",
   "execution_count": 12,
   "id": "593ed560-7eea-4354-9f54-1a0e527fe609",
   "metadata": {},
   "outputs": [
    {
     "name": "stdout",
     "output_type": "stream",
     "text": [
      "<class 'pandas.core.frame.DataFrame'>\n",
      "RangeIndex: 7043 entries, 0 to 7042\n",
      "Data columns (total 27 columns):\n",
      " #   Column                                   Non-Null Count  Dtype  \n",
      "---  ------                                   --------------  -----  \n",
      " 0   gender                                   7043 non-null   int32  \n",
      " 1   SeniorCitizen                            7043 non-null   int64  \n",
      " 2   Partner                                  7043 non-null   int32  \n",
      " 3   Dependents                               7043 non-null   int32  \n",
      " 4   tenure                                   7043 non-null   float64\n",
      " 5   PhoneService                             7043 non-null   int32  \n",
      " 6   MultipleLines                            7043 non-null   int32  \n",
      " 7   OnlineSecurity                           7043 non-null   int32  \n",
      " 8   OnlineBackup                             7043 non-null   int32  \n",
      " 9   DeviceProtection                         7043 non-null   int32  \n",
      " 10  TechSupport                              7043 non-null   int32  \n",
      " 11  StreamingTV                              7043 non-null   int32  \n",
      " 12  StreamingMovies                          7043 non-null   int32  \n",
      " 13  PaperlessBilling                         7043 non-null   int32  \n",
      " 14  MonthlyCharges                           7043 non-null   float64\n",
      " 15  TotalCharges                             7032 non-null   float64\n",
      " 16  Churn                                    7043 non-null   int32  \n",
      " 17  InternetService_DSL                      7043 non-null   int32  \n",
      " 18  InternetService_Fiber optic              7043 non-null   int32  \n",
      " 19  InternetService_No                       7043 non-null   int32  \n",
      " 20  Contract_Month-to-month                  7043 non-null   int32  \n",
      " 21  Contract_One year                        7043 non-null   int32  \n",
      " 22  Contract_Two year                        7043 non-null   int32  \n",
      " 23  PaymentMethod_Bank transfer (automatic)  7043 non-null   int32  \n",
      " 24  PaymentMethod_Credit card (automatic)    7043 non-null   int32  \n",
      " 25  PaymentMethod_Electronic check           7043 non-null   int32  \n",
      " 26  PaymentMethod_Mailed check               7043 non-null   int32  \n",
      "dtypes: float64(3), int32(23), int64(1)\n",
      "memory usage: 853.0 KB\n"
     ]
    }
   ],
   "source": [
    "df.info()"
   ]
  },
  {
   "cell_type": "code",
   "execution_count": 13,
   "id": "59b06963-9945-401b-be01-f3e30c27f6f8",
   "metadata": {},
   "outputs": [
    {
     "data": {
      "text/plain": [
       "(7043, 26)"
      ]
     },
     "execution_count": 13,
     "metadata": {},
     "output_type": "execute_result"
    }
   ],
   "source": [
    "X = df.drop(columns='Churn')\n",
    "y = df['Churn']\n",
    "X.shape"
   ]
  },
  {
   "cell_type": "code",
   "execution_count": 14,
   "id": "81a05c26-910e-43af-9f36-9326b9134123",
   "metadata": {},
   "outputs": [],
   "source": [
    "X_train, X_test, y_train, y_test = train_test_split(X, y, test_size=0.3, random_state=10)"
   ]
  },
  {
   "cell_type": "code",
   "execution_count": 15,
   "id": "54466225-36a1-46e9-9f13-a714bce86d78",
   "metadata": {},
   "outputs": [
    {
     "data": {
      "text/plain": [
       "26"
      ]
     },
     "execution_count": 15,
     "metadata": {},
     "output_type": "execute_result"
    }
   ],
   "source": [
    "len(X_train.columns)"
   ]
  },
  {
   "cell_type": "code",
   "execution_count": 18,
   "id": "1b42ae38-e2f7-4123-80ee-c18ac1ed2cce",
   "metadata": {},
   "outputs": [
    {
     "name": "stdout",
     "output_type": "stream",
     "text": [
      "Epoch 1/10\n",
      "\u001b[1m155/155\u001b[0m \u001b[32m━━━━━━━━━━━━━━━━━━━━\u001b[0m\u001b[37m\u001b[0m \u001b[1m1s\u001b[0m 1ms/step - accuracy: 0.7270 - loss: 0.6387\n",
      "Epoch 2/10\n",
      "\u001b[1m155/155\u001b[0m \u001b[32m━━━━━━━━━━━━━━━━━━━━\u001b[0m\u001b[37m\u001b[0m \u001b[1m0s\u001b[0m 1ms/step - accuracy: 0.7411 - loss: 0.6530\n",
      "Epoch 3/10\n",
      "\u001b[1m155/155\u001b[0m \u001b[32m━━━━━━━━━━━━━━━━━━━━\u001b[0m\u001b[37m\u001b[0m \u001b[1m0s\u001b[0m 1ms/step - accuracy: 0.7307 - loss: 0.6334\n",
      "Epoch 4/10\n",
      "\u001b[1m155/155\u001b[0m \u001b[32m━━━━━━━━━━━━━━━━━━━━\u001b[0m\u001b[37m\u001b[0m \u001b[1m0s\u001b[0m 1ms/step - accuracy: 0.7351 - loss: 0.6153\n",
      "Epoch 5/10\n",
      "\u001b[1m155/155\u001b[0m \u001b[32m━━━━━━━━━━━━━━━━━━━━\u001b[0m\u001b[37m\u001b[0m \u001b[1m0s\u001b[0m 1ms/step - accuracy: 0.7326 - loss: 0.6047\n",
      "Epoch 6/10\n",
      "\u001b[1m155/155\u001b[0m \u001b[32m━━━━━━━━━━━━━━━━━━━━\u001b[0m\u001b[37m\u001b[0m \u001b[1m0s\u001b[0m 1ms/step - accuracy: 0.7330 - loss: 0.5962\n",
      "Epoch 7/10\n",
      "\u001b[1m155/155\u001b[0m \u001b[32m━━━━━━━━━━━━━━━━━━━━\u001b[0m\u001b[37m\u001b[0m \u001b[1m0s\u001b[0m 1ms/step - accuracy: 0.7404 - loss: 0.5855\n",
      "Epoch 8/10\n",
      "\u001b[1m155/155\u001b[0m \u001b[32m━━━━━━━━━━━━━━━━━━━━\u001b[0m\u001b[37m\u001b[0m \u001b[1m0s\u001b[0m 1ms/step - accuracy: 0.7389 - loss: 0.5827\n",
      "Epoch 9/10\n",
      "\u001b[1m155/155\u001b[0m \u001b[32m━━━━━━━━━━━━━━━━━━━━\u001b[0m\u001b[37m\u001b[0m \u001b[1m0s\u001b[0m 1ms/step - accuracy: 0.7323 - loss: 0.5850\n",
      "Epoch 10/10\n",
      "\u001b[1m155/155\u001b[0m \u001b[32m━━━━━━━━━━━━━━━━━━━━\u001b[0m\u001b[37m\u001b[0m \u001b[1m0s\u001b[0m 1ms/step - accuracy: 0.7321 - loss: 0.5836\n"
     ]
    },
    {
     "data": {
      "text/plain": [
       "<keras.src.callbacks.history.History at 0x138994ac910>"
      ]
     },
     "execution_count": 18,
     "metadata": {},
     "output_type": "execute_result"
    }
   ],
   "source": [
    "model = tf.keras.Sequential([\n",
    "    tf.keras.layers.Dense(32, input_shape=(26,), activation='relu'),\n",
    "    tf.keras.layers.Dense(1, activation='sigmoid')\n",
    "])\n",
    "\n",
    "model.compile(\n",
    "    optimizer='adam',\n",
    "    loss='binary_crossentropy',\n",
    "    metrics=['accuracy']\n",
    ")\n",
    "\n",
    "model.fit(X_train, y_train, epochs=10)"
   ]
  },
  {
   "cell_type": "code",
   "execution_count": 19,
   "id": "1c026fde-f0b5-43f0-b1b9-cf02668ff24a",
   "metadata": {},
   "outputs": [
    {
     "name": "stdout",
     "output_type": "stream",
     "text": [
      "\u001b[1m67/67\u001b[0m \u001b[32m━━━━━━━━━━━━━━━━━━━━\u001b[0m\u001b[37m\u001b[0m \u001b[1m0s\u001b[0m 1ms/step - accuracy: 0.7652 - loss: 0.5534\n"
     ]
    },
    {
     "data": {
      "text/plain": [
       "[0.5755395293235779, 0.7363937497138977]"
      ]
     },
     "execution_count": 19,
     "metadata": {},
     "output_type": "execute_result"
    }
   ],
   "source": [
    "model.evaluate(X_test, y_test)"
   ]
  },
  {
   "cell_type": "code",
   "execution_count": null,
   "id": "b99d6475-1c19-44c1-8861-8c6109971185",
   "metadata": {},
   "outputs": [],
   "source": []
  }
 ],
 "metadata": {
  "kernelspec": {
   "display_name": "Python 3 (ipykernel)",
   "language": "python",
   "name": "python3"
  },
  "language_info": {
   "codemirror_mode": {
    "name": "ipython",
    "version": 3
   },
   "file_extension": ".py",
   "mimetype": "text/x-python",
   "name": "python",
   "nbconvert_exporter": "python",
   "pygments_lexer": "ipython3",
   "version": "3.11.5"
  }
 },
 "nbformat": 4,
 "nbformat_minor": 5
}
